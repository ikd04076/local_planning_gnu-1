{
 "cells": [
  {
   "cell_type": "code",
   "execution_count": 23,
   "metadata": {},
   "outputs": [],
   "source": [
    "import csv\n",
    "import os\n",
    "\n",
    "from pprint import pprint"
   ]
  },
  {
   "cell_type": "code",
   "execution_count": 44,
   "metadata": {},
   "outputs": [
    {
     "name": "stdout",
     "output_type": "stream",
     "text": [
      "['record/curve/fgm_gnu_time_data.csv',\n",
      " 'record/curve/fgm_pp_time_data.csv',\n",
      " 'record/curve/fgm_stech_time_data.csv',\n",
      " 'record/curve/odg_pf_pp_time_data.csv',\n",
      " 'record/curve/odg_pf_time_data.csv',\n",
      " 'record/obstacle_1/fgm_gnu_time_data.csv',\n",
      " 'record/obstacle_1/fgm_pp_time_data.csv',\n",
      " 'record/obstacle_1/fgm_stech_time_data.csv',\n",
      " 'record/obstacle_1/odg_pf_pp_time_data.csv',\n",
      " 'record/obstacle_1/odg_pf_time_data.csv',\n",
      " 'record/obstacle_2/fgm_gnu_time_data.csv',\n",
      " 'record/obstacle_2/fgm_pp_time_data.csv',\n",
      " 'record/obstacle_2/fgm_stech_time_data.csv',\n",
      " 'record/obstacle_2/odg_pf_pp_time_data.csv',\n",
      " 'record/obstacle_2/odg_pf_time_data.csv',\n",
      " 'record/racing/fgm_gnu_time_data.csv',\n",
      " 'record/racing/fgm_pp_time_data.csv',\n",
      " 'record/racing/fgm_stech_time_data.csv',\n",
      " 'record/racing/odg_pf_pp_time_data.csv',\n",
      " 'record/racing/odg_pf_time_data.csv',\n",
      " 'record/vegas_obs/fgm_gnu_time_data.csv',\n",
      " 'record/vegas_obs/fgm_pp_time_data.csv',\n",
      " 'record/vegas_obs/fgm_stech_time_data.csv',\n",
      " 'record/vegas_obs/odg_pf_pp_time_data.csv',\n",
      " 'record/vegas_obs/odg_pf_time_data.csv']\n"
     ]
    }
   ],
   "source": [
    "dirname = \"record\"\n",
    "\n",
    "dirlist = []\n",
    "for (dirpath, dirnames, filenames) in os.walk(dirname):\n",
    "    if '.ipynb_checkpoints' in dirpath:\n",
    "        continue\n",
    "    else:\n",
    "        dirlist += [os.path.join(dirpath, file) for file in filenames]\n",
    "\n",
    "dirlist.sort()\n",
    "\n",
    "pprint(dirlist)"
   ]
  },
  {
   "cell_type": "code",
   "execution_count": 45,
   "metadata": {},
   "outputs": [
    {
     "name": "stdout",
     "output_type": "stream",
     "text": [
      "Error Catch record/obstacle_1/fgm_gnu_time_data.csv\n",
      "Error Catch record/obstacle_1/fgm_pp_time_data.csv\n",
      "Error Catch record/obstacle_1/fgm_stech_time_data.csv\n",
      "Error Catch record/obstacle_1/odg_pf_pp_time_data.csv\n",
      "Error Catch record/obstacle_1/odg_pf_time_data.csv\n",
      "Error Catch record/obstacle_2/fgm_gnu_time_data.csv\n",
      "Error Catch record/obstacle_2/fgm_pp_time_data.csv\n",
      "Error Catch record/obstacle_2/fgm_stech_time_data.csv\n",
      "Error Catch record/obstacle_2/odg_pf_pp_time_data.csv\n",
      "Error Catch record/obstacle_2/odg_pf_time_data.csv\n",
      "Error Catch record/racing/fgm_gnu_time_data.csv\n",
      "Error Catch record/racing/fgm_pp_time_data.csv\n",
      "Error Catch record/racing/fgm_stech_time_data.csv\n",
      "Error Catch record/racing/odg_pf_pp_time_data.csv\n",
      "Error Catch record/racing/odg_pf_time_data.csv\n",
      "Error Catch record/vegas_obs/fgm_gnu_time_data.csv\n",
      "Error Catch record/vegas_obs/fgm_pp_time_data.csv\n",
      "Error Catch record/vegas_obs/fgm_stech_time_data.csv\n",
      "Error Catch record/vegas_obs/odg_pf_pp_time_data.csv\n",
      "Error Catch record/vegas_obs/odg_pf_time_data.csv\n"
     ]
    }
   ],
   "source": [
    "for csv_file in dirlist:\n",
    "#     print(csv)\n",
    "    f = open(csv_file, 'r', newline='')\n",
    "    rdr = list(csv.reader(f))\n",
    "    f.close()\n",
    "    \n",
    "    if len(rdr[0]) == 3 and rdr[0] != ['index', 'time', 'exe_time']:\n",
    "        print(\"Error Catch\", csv_file)\n",
    "        rdr.insert(0, ['index', 'time', 'exe_time'])\n",
    "        f2 = open(csv_file, 'w', newline='')\n",
    "        wdr = csv.writer(f2)\n",
    "        wdr.writerows(rdr)\n",
    "        f2.close()\n",
    "        \n",
    "        \n",
    "    if len(rdr[0]) == 4 and rdr[0] != ['index', 'time', 'exe_time', 'planning']:\n",
    "        print(\"Error Catch\", csv_file)\n",
    "        rdr.insert(0, ['index', 'time', 'exe_time', 'planning'])\n",
    "        f2 = open(csv_file, 'w', newline='')\n",
    "        wdr = csv.writer(f2)\n",
    "        wdr.writerows(rdr)\n",
    "        f2.close()"
   ]
  },
  {
   "cell_type": "code",
   "execution_count": null,
   "metadata": {},
   "outputs": [],
   "source": []
  }
 ],
 "metadata": {
  "kernelspec": {
   "display_name": "Python 3",
   "language": "python",
   "name": "python3"
  },
  "language_info": {
   "codemirror_mode": {
    "name": "ipython",
    "version": 3
   },
   "file_extension": ".py",
   "mimetype": "text/x-python",
   "name": "python",
   "nbconvert_exporter": "python",
   "pygments_lexer": "ipython3",
   "version": "3.8.5"
  }
 },
 "nbformat": 4,
 "nbformat_minor": 4
}
